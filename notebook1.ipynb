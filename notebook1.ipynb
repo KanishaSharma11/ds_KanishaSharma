{
 "cells": [
  {
   "cell_type": "code",
   "execution_count": 1,
   "id": "34ed2d71",
   "metadata": {},
   "outputs": [],
   "source": [
    "import pandas as pd\n",
    "import numpy as np\n",
    "import matplotlib.pyplot as plt\n",
    "from pathlib import Path"
   ]
  },
  {
   "cell_type": "code",
   "execution_count": 2,
   "id": "b7e07386",
   "metadata": {},
   "outputs": [],
   "source": [
    "root = Path(f\"ds_KanishaSharma\")\n",
    "csv_dir = root / \"csv_files\"\n",
    "out_dir = root / \"outputs\"\n",
    "csv_dir.mkdir(parents=True, exist_ok=True)\n",
    "out_dir.mkdir(parents=True, exist_ok=True)"
   ]
  },
  {
   "cell_type": "code",
   "execution_count": 4,
   "id": "38969971",
   "metadata": {},
   "outputs": [],
   "source": [
    "fg = pd.read_csv(\"fear_greed_index.csv\")\n",
    "trades = pd.read_csv(\"historical_data.csv\")"
   ]
  },
  {
   "cell_type": "code",
   "execution_count": 5,
   "id": "beda1eff",
   "metadata": {},
   "outputs": [],
   "source": [
    "# Standardize column names\n",
    "fg.columns = fg.columns.str.strip().str.lower().str.replace(r\"[^\\w]+\",\"_\",regex=True)\n",
    "trades.columns = trades.columns.str.strip().str.lower().str.replace(r\"[^\\w]+\",\"_\",regex=True)"
   ]
  },
  {
   "cell_type": "markdown",
   "id": "09bf6e7d",
   "metadata": {},
   "source": [
    "Parse Dates Correctly"
   ]
  },
  {
   "cell_type": "code",
   "execution_count": 6,
   "id": "7bb55fbd",
   "metadata": {},
   "outputs": [],
   "source": [
    "# Fear/Greed: already YYYY-MM-DD\n",
    "fg[\"date\"] = pd.to_datetime(fg[\"date\"], errors=\"coerce\").dt.date\n",
    "fg[\"classification\"] = fg[\"classification\"].astype(str).str.strip().str.title()\n",
    "fg = fg.dropna(subset=[\"date\"])"
   ]
  },
  {
   "cell_type": "code",
   "execution_count": 8,
   "id": "a3780f7a",
   "metadata": {},
   "outputs": [],
   "source": [
    "# Trades: detect UNIX timestamp format\n",
    "# Try ms first, fallback to s if needed\n",
    "try:\n",
    "    trades[\"timestamp\"] = pd.to_datetime(trades[\"timestamp\"], unit=\"ms\", errors=\"raise\")\n",
    "except Exception:\n",
    "    trades[\"timestamp\"] = pd.to_datetime(trades[\"timestamp\"], unit=\"s\", errors=\"coerce\")\n",
    "\n",
    "trades[\"trade_date\"] = trades[\"timestamp\"].dt.date\n",
    "\n",
    "# Convert numeric fields\n",
    "for c in [\"execution_price\",\"size\",\"leverage\",\"closedpnl\",\"start_position\"]:\n",
    "    if c in trades.columns:\n",
    "        trades[c] = pd.to_numeric(trades[c], errors=\"coerce\")\n",
    "\n",
    "if \"side\" in trades.columns:\n",
    "    trades[\"side\"] = trades[\"side\"].astype(str).str.strip().str.lower()"
   ]
  },
  {
   "cell_type": "markdown",
   "id": "acb88882",
   "metadata": {},
   "source": [
    "Merge sentiment onto trades "
   ]
  },
  {
   "cell_type": "code",
   "execution_count": 9,
   "id": "db17bf8a",
   "metadata": {},
   "outputs": [],
   "source": [
    "merged = trades.merge(\n",
    "    fg[[\"date\",\"classification\"]],\n",
    "    left_on=\"trade_date\", right_on=\"date\",\n",
    "    how=\"left\"\n",
    ").rename(columns={\"classification\":\"daily_sentiment\"}).drop(columns=[\"date\"])\n",
    "\n",
    "# Fill missing sentiment\n",
    "merged[\"daily_sentiment\"] = merged[\"daily_sentiment\"].fillna(\"Unknown\")\n",
    "\n",
    "# Add win/loss flag if possible\n",
    "if \"closedpnl\" in merged.columns:\n",
    "    merged[\"is_win\"] = merged[\"closedpnl\"] > 0\n",
    "\n",
    "# Save merged dataset\n",
    "merged.to_csv(csv_dir/\"merged_trades_with_sentiment.csv\", index=False)\n"
   ]
  },
  {
   "cell_type": "markdown",
   "id": "1be1a3c8",
   "metadata": {},
   "source": [
    "Summaries"
   ]
  },
  {
   "cell_type": "code",
   "execution_count": 13,
   "id": "5f01dae6",
   "metadata": {},
   "outputs": [
    {
     "data": {
      "application/vnd.microsoft.datawrangler.viewer.v0+json": {
       "columns": [
        {
         "name": "index",
         "rawType": "int64",
         "type": "integer"
        },
        {
         "name": "daily_sentiment",
         "rawType": "object",
         "type": "string"
        },
        {
         "name": "trade_date",
         "rawType": "int64",
         "type": "integer"
        }
       ],
       "ref": "737737a9-27a6-4082-8082-a35bf27758e4",
       "rows": [
        [
         "0",
         "Extreme Greed",
         "6962"
        ],
        [
         "1",
         "Fear",
         "133871"
        ],
        [
         "2",
         "Greed",
         "36289"
        ],
        [
         "3",
         "Neutral",
         "7141"
        ],
        [
         "4",
         "Unknown",
         "26961"
        ]
       ],
       "shape": {
        "columns": 2,
        "rows": 5
       }
      },
      "text/html": [
       "<div>\n",
       "<style scoped>\n",
       "    .dataframe tbody tr th:only-of-type {\n",
       "        vertical-align: middle;\n",
       "    }\n",
       "\n",
       "    .dataframe tbody tr th {\n",
       "        vertical-align: top;\n",
       "    }\n",
       "\n",
       "    .dataframe thead th {\n",
       "        text-align: right;\n",
       "    }\n",
       "</style>\n",
       "<table border=\"1\" class=\"dataframe\">\n",
       "  <thead>\n",
       "    <tr style=\"text-align: right;\">\n",
       "      <th></th>\n",
       "      <th>daily_sentiment</th>\n",
       "      <th>trade_date</th>\n",
       "    </tr>\n",
       "  </thead>\n",
       "  <tbody>\n",
       "    <tr>\n",
       "      <th>0</th>\n",
       "      <td>Extreme Greed</td>\n",
       "      <td>6962</td>\n",
       "    </tr>\n",
       "    <tr>\n",
       "      <th>1</th>\n",
       "      <td>Fear</td>\n",
       "      <td>133871</td>\n",
       "    </tr>\n",
       "    <tr>\n",
       "      <th>2</th>\n",
       "      <td>Greed</td>\n",
       "      <td>36289</td>\n",
       "    </tr>\n",
       "    <tr>\n",
       "      <th>3</th>\n",
       "      <td>Neutral</td>\n",
       "      <td>7141</td>\n",
       "    </tr>\n",
       "    <tr>\n",
       "      <th>4</th>\n",
       "      <td>Unknown</td>\n",
       "      <td>26961</td>\n",
       "    </tr>\n",
       "  </tbody>\n",
       "</table>\n",
       "</div>"
      ],
      "text/plain": [
       "  daily_sentiment  trade_date\n",
       "0   Extreme Greed        6962\n",
       "1            Fear      133871\n",
       "2           Greed       36289\n",
       "3         Neutral        7141\n",
       "4         Unknown       26961"
      ]
     },
     "execution_count": 13,
     "metadata": {},
     "output_type": "execute_result"
    }
   ],
   "source": [
    "# Define which metrics are safe to use\n",
    "agg_dict = {\"trade_date\": (\"trade_date\",\"count\")}  # always works\n",
    "\n",
    "if \"size\" in merged.columns:\n",
    "    agg_dict[\"avg_size\"] = (\"size\",\"mean\")\n",
    "if \"leverage\" in merged.columns:\n",
    "    agg_dict[\"avg_leverage\"] = (\"leverage\",\"mean\")\n",
    "if \"closedpnl\" in merged.columns:\n",
    "    agg_dict[\"avg_pnl\"] = (\"closedpnl\",\"mean\")\n",
    "if \"is_win\" in merged.columns:\n",
    "    agg_dict[\"win_rate\"] = (\"is_win\",\"mean\")\n",
    "\n",
    "# Apply aggregation dynamically\n",
    "sentiment_summary = (\n",
    "    merged.groupby(\"daily_sentiment\")\n",
    "          .agg(**agg_dict)\n",
    "          .reset_index()\n",
    ")\n",
    "\n",
    "# Save\n",
    "sentiment_summary.to_csv(csv_dir/\"sentiment_summary.csv\", index=False)\n",
    "sentiment_summary.head()\n"
   ]
  },
  {
   "cell_type": "markdown",
   "id": "674491bb",
   "metadata": {},
   "source": [
    " Static Visualizations"
   ]
  },
  {
   "cell_type": "code",
   "execution_count": 18,
   "id": "16f88aef",
   "metadata": {},
   "outputs": [],
   "source": [
    "# (a) Count of trades\n",
    "plt.figure()\n",
    "merged[\"daily_sentiment\"].value_counts().plot(kind=\"bar\")\n",
    "plt.title(\"Number of Trades by Sentiment\")\n",
    "plt.xlabel(\"Sentiment\"); plt.ylabel(\"Trade Count\")\n",
    "plt.tight_layout(); plt.savefig(out_dir/\"trades_by_sentiment.png\"); plt.close()\n"
   ]
  },
  {
   "cell_type": "code",
   "execution_count": 19,
   "id": "5ca07fbd",
   "metadata": {},
   "outputs": [
    {
     "name": "stdout",
     "output_type": "stream",
     "text": [
      "⚠️ No leverage column found. Skipping leverage boxplot.\n",
      "⚠️ No is_win column (likely no closedpnl). Skipping winrate plot.\n"
     ]
    }
   ],
   "source": [
    "# (b) Boxplot leverage\n",
    "if \"leverage\" in merged.columns:\n",
    "    plt.figure()\n",
    "    merged.boxplot(column=\"leverage\", by=\"daily_sentiment\", grid=False)\n",
    "    plt.title(\"Leverage Distribution by Sentiment\"); plt.suptitle(\"\")\n",
    "    plt.xlabel(\"Sentiment\"); plt.ylabel(\"Leverage\")\n",
    "    plt.tight_layout(); plt.savefig(out_dir/\"leverage_boxplot.png\"); plt.close()\n",
    "else:\n",
    "    print(\"⚠️ No leverage column found. Skipping leverage boxplot.\")\n",
    "    \n",
    "# (c) Win rate\n",
    "if \"is_win\" in merged.columns:\n",
    "    win_rate = merged.groupby(\"daily_sentiment\")[\"is_win\"].mean()\n",
    "    plt.figure()\n",
    "    win_rate.plot(kind=\"bar\")\n",
    "    plt.title(\"Win Rate by Sentiment\"); plt.xlabel(\"Sentiment\"); plt.ylabel(\"Win Rate\")\n",
    "    plt.tight_layout(); plt.savefig(out_dir/\"winrate_by_sentiment.png\"); plt.close()\n",
    "else:\n",
    "    print(\"⚠️ No is_win column (likely no closedpnl). Skipping winrate plot.\")\n"
   ]
  },
  {
   "cell_type": "markdown",
   "id": "1d098347",
   "metadata": {},
   "source": [
    "Time-Series Visualizations"
   ]
  },
  {
   "cell_type": "code",
   "execution_count": 20,
   "id": "dd4c8fab",
   "metadata": {},
   "outputs": [],
   "source": [
    "# (a) Daily trade count\n",
    "daily_trades = merged.groupby([\"trade_date\",\"daily_sentiment\"]).size().reset_index(name=\"trade_count\")\n",
    "\n",
    "plt.figure(figsize=(14,6))\n",
    "for s in daily_trades[\"daily_sentiment\"].unique():\n",
    "    subset = daily_trades[daily_trades[\"daily_sentiment\"]==s]\n",
    "    plt.plot(subset[\"trade_date\"], subset[\"trade_count\"], marker=\".\", label=s)\n",
    "plt.title(\"Daily Trade Volume Over Time (by Sentiment)\")\n",
    "plt.xlabel(\"Date\"); plt.ylabel(\"Number of Trades\")\n",
    "plt.legend(); plt.tight_layout()\n",
    "plt.savefig(out_dir/\"daily_trades_over_time.png\"); plt.close()\n",
    "\n",
    "# (b) Daily avg leverage\n",
    "if \"leverage\" in merged.columns:\n",
    "    daily_lev = merged.groupby([\"trade_date\",\"daily_sentiment\"])[\"leverage\"].mean().reset_index()\n",
    "    plt.figure(figsize=(14,6))\n",
    "    for s in daily_lev[\"daily_sentiment\"].unique():\n",
    "        subset = daily_lev[daily_lev[\"daily_sentiment\"]==s]\n",
    "        plt.plot(subset[\"trade_date\"], subset[\"leverage\"], marker=\".\", label=s)\n",
    "    plt.title(\"Daily Avg Leverage Over Time (by Sentiment)\")\n",
    "    plt.xlabel(\"Date\"); plt.ylabel(\"Average Leverage\")\n",
    "    plt.legend(); plt.tight_layout()\n",
    "    plt.savefig(out_dir/\"daily_leverage_over_time.png\"); plt.close()\n",
    "\n",
    "# (c) Daily avg PnL\n",
    "if \"closedpnl\" in merged.columns:\n",
    "    daily_pnl = merged.groupby([\"trade_date\",\"daily_sentiment\"])[\"closedpnl\"].mean().reset_index()\n",
    "    plt.figure(figsize=(14,6))\n",
    "    for s in daily_pnl[\"daily_sentiment\"].unique():\n",
    "        subset = daily_pnl[daily_pnl[\"daily_sentiment\"]==s]\n",
    "        plt.plot(subset[\"trade_date\"], subset[\"closedpnl\"], marker=\".\", label=s)\n",
    "    plt.title(\"Daily Avg PnL Over Time (by Sentiment)\")\n",
    "    plt.xlabel(\"Date\"); plt.ylabel(\"Avg PnL\")\n",
    "    plt.legend(); plt.tight_layout()\n",
    "    plt.savefig(out_dir/\"daily_pnl_over_time.png\"); plt.close()\n",
    "\n",
    "# (d) Cumulative PnL\n",
    "if \"closedpnl\" in merged.columns:\n",
    "    merged_sorted = merged.sort_values(\"time\")\n",
    "    merged_sorted[\"cum_pnl\"] = merged_sorted.groupby(\"daily_sentiment\")[\"closedpnl\"].cumsum()\n",
    "    plt.figure(figsize=(14,6))\n",
    "    for s in merged_sorted[\"daily_sentiment\"].unique():\n",
    "        subset = merged_sorted[merged_sorted[\"daily_sentiment\"]==s]\n",
    "        plt.plot(subset[\"time\"], subset[\"cum_pnl\"], label=s)\n",
    "    plt.title(\"Cumulative PnL Over Time (by Sentiment)\")\n",
    "    plt.xlabel(\"Time\"); plt.ylabel(\"Cumulative PnL\")\n",
    "    plt.legend(); plt.tight_layout()\n",
    "    plt.savefig(out_dir/\"cumulative_pnl_over_time.png\"); plt.close()"
   ]
  }
 ],
 "metadata": {
  "kernelspec": {
   "display_name": "Python 3",
   "language": "python",
   "name": "python3"
  },
  "language_info": {
   "codemirror_mode": {
    "name": "ipython",
    "version": 3
   },
   "file_extension": ".py",
   "mimetype": "text/x-python",
   "name": "python",
   "nbconvert_exporter": "python",
   "pygments_lexer": "ipython3",
   "version": "3.11.5"
  }
 },
 "nbformat": 4,
 "nbformat_minor": 5
}
